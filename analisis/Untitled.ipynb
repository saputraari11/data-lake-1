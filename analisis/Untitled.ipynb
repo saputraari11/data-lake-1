{
 "cells": [
  {
   "cell_type": "code",
   "execution_count": 1,
   "id": "36ae45e1",
   "metadata": {},
   "outputs": [],
   "source": [
    "import pandas as pd"
   ]
  },
  {
   "cell_type": "code",
   "execution_count": 31,
   "id": "ed8fa4f2",
   "metadata": {},
   "outputs": [],
   "source": [
    "df = pd.read_csv(\"https://github.com/DataTalksClub/nyc-tlc-data/releases/download/yellow/yellow_tripdata_2019-01.csv.gz\")"
   ]
  },
  {
   "cell_type": "code",
   "execution_count": 9,
   "id": "82d3b5a9",
   "metadata": {},
   "outputs": [],
   "source": [
    "zone = pd.read_csv(\"https://s3.amazonaws.com/nyc-tlc/misc/taxi+_zone_lookup.csv\")"
   ]
  },
  {
   "cell_type": "code",
   "execution_count": 34,
   "id": "e4ad3bb3",
   "metadata": {},
   "outputs": [
    {
     "data": {
      "text/plain": [
       "2811814"
      ]
     },
     "execution_count": 34,
     "metadata": {},
     "output_type": "execute_result"
    }
   ],
   "source": [
    "df = df\n",
    "len(df)"
   ]
  },
  {
   "cell_type": "code",
   "execution_count": 10,
   "id": "b771c80e",
   "metadata": {},
   "outputs": [
    {
     "data": {
      "text/html": [
       "<div>\n",
       "<style scoped>\n",
       "    .dataframe tbody tr th:only-of-type {\n",
       "        vertical-align: middle;\n",
       "    }\n",
       "\n",
       "    .dataframe tbody tr th {\n",
       "        vertical-align: top;\n",
       "    }\n",
       "\n",
       "    .dataframe thead th {\n",
       "        text-align: right;\n",
       "    }\n",
       "</style>\n",
       "<table border=\"1\" class=\"dataframe\">\n",
       "  <thead>\n",
       "    <tr style=\"text-align: right;\">\n",
       "      <th></th>\n",
       "      <th>LocationID</th>\n",
       "      <th>Borough</th>\n",
       "      <th>Zone</th>\n",
       "      <th>service_zone</th>\n",
       "    </tr>\n",
       "  </thead>\n",
       "  <tbody>\n",
       "    <tr>\n",
       "      <th>0</th>\n",
       "      <td>1</td>\n",
       "      <td>EWR</td>\n",
       "      <td>Newark Airport</td>\n",
       "      <td>EWR</td>\n",
       "    </tr>\n",
       "    <tr>\n",
       "      <th>1</th>\n",
       "      <td>2</td>\n",
       "      <td>Queens</td>\n",
       "      <td>Jamaica Bay</td>\n",
       "      <td>Boro Zone</td>\n",
       "    </tr>\n",
       "    <tr>\n",
       "      <th>2</th>\n",
       "      <td>3</td>\n",
       "      <td>Bronx</td>\n",
       "      <td>Allerton/Pelham Gardens</td>\n",
       "      <td>Boro Zone</td>\n",
       "    </tr>\n",
       "    <tr>\n",
       "      <th>3</th>\n",
       "      <td>4</td>\n",
       "      <td>Manhattan</td>\n",
       "      <td>Alphabet City</td>\n",
       "      <td>Yellow Zone</td>\n",
       "    </tr>\n",
       "    <tr>\n",
       "      <th>4</th>\n",
       "      <td>5</td>\n",
       "      <td>Staten Island</td>\n",
       "      <td>Arden Heights</td>\n",
       "      <td>Boro Zone</td>\n",
       "    </tr>\n",
       "    <tr>\n",
       "      <th>...</th>\n",
       "      <td>...</td>\n",
       "      <td>...</td>\n",
       "      <td>...</td>\n",
       "      <td>...</td>\n",
       "    </tr>\n",
       "    <tr>\n",
       "      <th>260</th>\n",
       "      <td>261</td>\n",
       "      <td>Manhattan</td>\n",
       "      <td>World Trade Center</td>\n",
       "      <td>Yellow Zone</td>\n",
       "    </tr>\n",
       "    <tr>\n",
       "      <th>261</th>\n",
       "      <td>262</td>\n",
       "      <td>Manhattan</td>\n",
       "      <td>Yorkville East</td>\n",
       "      <td>Yellow Zone</td>\n",
       "    </tr>\n",
       "    <tr>\n",
       "      <th>262</th>\n",
       "      <td>263</td>\n",
       "      <td>Manhattan</td>\n",
       "      <td>Yorkville West</td>\n",
       "      <td>Yellow Zone</td>\n",
       "    </tr>\n",
       "    <tr>\n",
       "      <th>263</th>\n",
       "      <td>264</td>\n",
       "      <td>Unknown</td>\n",
       "      <td>NV</td>\n",
       "      <td>NaN</td>\n",
       "    </tr>\n",
       "    <tr>\n",
       "      <th>264</th>\n",
       "      <td>265</td>\n",
       "      <td>Unknown</td>\n",
       "      <td>NaN</td>\n",
       "      <td>NaN</td>\n",
       "    </tr>\n",
       "  </tbody>\n",
       "</table>\n",
       "<p>265 rows × 4 columns</p>\n",
       "</div>"
      ],
      "text/plain": [
       "     LocationID        Borough                     Zone service_zone\n",
       "0             1            EWR           Newark Airport          EWR\n",
       "1             2         Queens              Jamaica Bay    Boro Zone\n",
       "2             3          Bronx  Allerton/Pelham Gardens    Boro Zone\n",
       "3             4      Manhattan            Alphabet City  Yellow Zone\n",
       "4             5  Staten Island            Arden Heights    Boro Zone\n",
       "..          ...            ...                      ...          ...\n",
       "260         261      Manhattan       World Trade Center  Yellow Zone\n",
       "261         262      Manhattan           Yorkville East  Yellow Zone\n",
       "262         263      Manhattan           Yorkville West  Yellow Zone\n",
       "263         264        Unknown                       NV          NaN\n",
       "264         265        Unknown                      NaN          NaN\n",
       "\n",
       "[265 rows x 4 columns]"
      ]
     },
     "execution_count": 10,
     "metadata": {},
     "output_type": "execute_result"
    }
   ],
   "source": [
    "zone"
   ]
  },
  {
   "cell_type": "code",
   "execution_count": 33,
   "id": "d2eb0eae",
   "metadata": {},
   "outputs": [
    {
     "name": "stdout",
     "output_type": "stream",
     "text": [
      "after cleaning,size is 7667792\n",
      "         VendorID tpep_pickup_datetime tpep_dropoff_datetime  passenger_count  \\\n",
      "68268           1  2019-01-01 07:01:20   2019-01-31 14:29:21                1   \n",
      "579459          1  2019-01-03 21:43:46   2019-01-03 21:45:47                1   \n",
      "579460          1  2019-01-03 21:49:22   2019-01-03 21:59:12                1   \n",
      "592224          1  2019-01-03 22:04:40   2019-01-03 22:16:15                1   \n",
      "592225          1  2019-01-03 22:24:36   2019-01-27 10:41:17                1   \n",
      "...           ...                  ...                   ...              ...   \n",
      "7667787         2  2019-01-31 23:57:36   2019-02-01 00:18:39                1   \n",
      "7667788         2  2019-01-31 23:32:03   2019-01-31 23:33:11                1   \n",
      "7667789         2  2019-01-31 23:36:36   2019-01-31 23:36:40                1   \n",
      "7667790         2  2019-01-31 23:14:53   2019-01-31 23:15:20                1   \n",
      "7667791         2  2019-01-31 23:12:49   2019-01-31 23:14:08                1   \n",
      "\n",
      "         trip_distance  RatecodeID store_and_fwd_flag  PULocationID  \\\n",
      "68268             1.20           1                  N            48   \n",
      "579459            0.60           1                  N           263   \n",
      "579460            2.20           1                  N           263   \n",
      "592224            2.50           1                  N           238   \n",
      "592225            1.10           1                  N            50   \n",
      "...                ...         ...                ...           ...   \n",
      "7667787           4.79           1                  N           263   \n",
      "7667788           0.00           1                  N           193   \n",
      "7667789           0.00           1                  N           264   \n",
      "7667790           0.00           1                  N           264   \n",
      "7667791           0.00           1                  N           193   \n",
      "\n",
      "         DOLocationID  payment_type  fare_amount  extra  mta_tax  tip_amount  \\\n",
      "68268             163             2          6.5    0.0      0.5        0.00   \n",
      "579459            141             1          4.0    0.0      0.5        1.50   \n",
      "579460            151             1         10.0    0.0      0.5        1.00   \n",
      "592224            246             1         11.0    0.0      0.5        2.35   \n",
      "592225            170             1          8.5    0.0      0.5        1.85   \n",
      "...               ...           ...          ...    ...      ...         ...   \n",
      "7667787             4             1         18.0    0.5      0.5        3.86   \n",
      "7667788           193             1          0.0    0.0      0.0        0.00   \n",
      "7667789           264             1          0.0    0.0      0.0        0.00   \n",
      "7667790             7             1          0.0    0.0      0.0        0.00   \n",
      "7667791           193             1          0.0    0.0      0.0        0.00   \n",
      "\n",
      "         tolls_amount  improvement_surcharge  total_amount  \\\n",
      "68268             0.0                    0.3          7.30   \n",
      "579459            0.0                    0.3          6.30   \n",
      "579460            0.0                    0.3         11.80   \n",
      "592224            0.0                    0.3         14.15   \n",
      "592225            0.0                    0.3         11.15   \n",
      "...               ...                    ...           ...   \n",
      "7667787           0.0                    0.3         23.16   \n",
      "7667788           0.0                    0.0          0.00   \n",
      "7667789           0.0                    0.0          0.00   \n",
      "7667790           0.0                    0.0          0.00   \n",
      "7667791           0.0                    0.0          0.00   \n",
      "\n",
      "         congestion_surcharge  \n",
      "68268                     0.0  \n",
      "579459                    0.0  \n",
      "579460                    0.0  \n",
      "592224                    0.0  \n",
      "592225                    0.0  \n",
      "...                       ...  \n",
      "7667787                   0.0  \n",
      "7667788                   0.0  \n",
      "7667789                   0.0  \n",
      "7667790                   0.0  \n",
      "7667791                   0.0  \n",
      "\n",
      "[2811814 rows x 18 columns]\n",
      "after cleaning,size is 2811814\n"
     ]
    }
   ],
   "source": [
    "print(f'after cleaning,size is {len(df)}')\n",
    "df = df.dropna()\n",
    "df[\"tpep_pickup_datetime\"] = pd.to_datetime(df[\"tpep_pickup_datetime\"])\n",
    "df[\"tpep_dropoff_datetime\"] = pd.to_datetime(df[\"tpep_dropoff_datetime\"])\n",
    "print(df)\n",
    "print(f'after cleaning,size is {len(df)}')"
   ]
  }
 ],
 "metadata": {
  "kernelspec": {
   "display_name": "Python 3 (ipykernel)",
   "language": "python",
   "name": "python3"
  },
  "language_info": {
   "codemirror_mode": {
    "name": "ipython",
    "version": 3
   },
   "file_extension": ".py",
   "mimetype": "text/x-python",
   "name": "python",
   "nbconvert_exporter": "python",
   "pygments_lexer": "ipython3",
   "version": "3.9.13"
  }
 },
 "nbformat": 4,
 "nbformat_minor": 5
}
